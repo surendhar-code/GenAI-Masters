{
  "nbformat": 4,
  "nbformat_minor": 0,
  "metadata": {
    "colab": {
      "provenance": [],
      "authorship_tag": "ABX9TyOMRBXFOozLtHH2oOPS5FdT",
      "include_colab_link": true
    },
    "kernelspec": {
      "name": "python3",
      "display_name": "Python 3"
    },
    "language_info": {
      "name": "python"
    }
  },
  "cells": [
    {
      "cell_type": "markdown",
      "metadata": {
        "id": "view-in-github",
        "colab_type": "text"
      },
      "source": [
        "<a href=\"https://colab.research.google.com/github/surendhar-code/GenAI-Masters/blob/main/GenAI_Text_Representation_and_Vectorization_using_Word2Vec.ipynb\" target=\"_parent\"><img src=\"https://colab.research.google.com/assets/colab-badge.svg\" alt=\"Open In Colab\"/></a>"
      ]
    },
    {
      "cell_type": "code",
      "source": [
        "import numpy as np\n",
        "import pandas as pd\n",
        "import gensim\n",
        "import os\n",
        "import kagglehub\n",
        "\n",
        "\n",
        "import nltk\n",
        "nltk.download('punkt_tab')\n",
        "\n",
        "from nltk import sent_tokenize\n",
        "from gensim.utils import simple_preprocess\n"
      ],
      "metadata": {
        "colab": {
          "base_uri": "https://localhost:8080/"
        },
        "id": "RzzkaTfbhycM",
        "outputId": "427240fd-21fc-42a0-a022-14788d6c9c56"
      },
      "execution_count": 6,
      "outputs": [
        {
          "output_type": "stream",
          "name": "stderr",
          "text": [
            "[nltk_data] Downloading package punkt_tab to /root/nltk_data...\n",
            "[nltk_data]   Unzipping tokenizers/punkt_tab.zip.\n"
          ]
        }
      ]
    },
    {
      "cell_type": "code",
      "execution_count": 1,
      "metadata": {
        "colab": {
          "base_uri": "https://localhost:8080/"
        },
        "id": "Zfflg7QVdtV8",
        "outputId": "b8d647ef-1a0c-49f2-8078-2a16ab357002"
      },
      "outputs": [
        {
          "output_type": "stream",
          "name": "stdout",
          "text": [
            "Warning: Looks like you're using an outdated `kagglehub` version (installed: 0.3.5), please consider upgrading to the latest version (0.3.6).\n",
            "Downloading from https://www.kaggle.com/api/v1/datasets/download/khulasasndh/game-of-thrones-books?dataset_version_number=1...\n"
          ]
        },
        {
          "output_type": "stream",
          "name": "stderr",
          "text": [
            "100%|██████████| 3.71M/3.71M [00:00<00:00, 141MB/s]"
          ]
        },
        {
          "output_type": "stream",
          "name": "stdout",
          "text": [
            "Extracting files...\n",
            "Path to dataset files: /root/.cache/kagglehub/datasets/khulasasndh/game-of-thrones-books/versions/1\n"
          ]
        },
        {
          "output_type": "stream",
          "name": "stderr",
          "text": [
            "\n"
          ]
        }
      ],
      "source": [
        "\n",
        "\n",
        "# Download latest version\n",
        "path = kagglehub.dataset_download(\"khulasasndh/game-of-thrones-books\")\n",
        "\n",
        "print(\"Path to dataset files:\", path)"
      ]
    },
    {
      "cell_type": "code",
      "source": [
        "import os\n",
        "os.listdir(path)"
      ],
      "metadata": {
        "colab": {
          "base_uri": "https://localhost:8080/"
        },
        "id": "eCjyYnNdgOzH",
        "outputId": "50024d54-17ab-4728-d5bb-f95929ce7641"
      },
      "execution_count": 2,
      "outputs": [
        {
          "output_type": "execute_result",
          "data": {
            "text/plain": [
              "['004ssb.txt', '002ssb.txt', '003ssb.txt', '005ssb.txt', '001ssb.txt']"
            ]
          },
          "metadata": {},
          "execution_count": 2
        }
      ]
    },
    {
      "source": [
        "story = []\n",
        "\n",
        "for filename in os.listdir(path):\n",
        "    if filename == '.ipynb_checkpoints':\n",
        "      pass\n",
        "\n",
        "    with open(os.path.join(path,filename), 'r', encoding='latin-1') as f:\n",
        "        corpus = f.read()\n",
        "\n",
        "    raw_sent = sent_tokenize(corpus)\n",
        "\n",
        "    for sent in raw_sent:\n",
        "        story.append(simple_preprocess(sent))"
      ],
      "cell_type": "code",
      "metadata": {
        "id": "e8ot7Cx9jGdF"
      },
      "execution_count": 7,
      "outputs": []
    },
    {
      "cell_type": "code",
      "source": [
        "len(story)"
      ],
      "metadata": {
        "colab": {
          "base_uri": "https://localhost:8080/"
        },
        "id": "y26Cb2dpirOE",
        "outputId": "3872dbd6-4c74-40d2-9643-7529f6d73554"
      },
      "execution_count": 10,
      "outputs": [
        {
          "output_type": "execute_result",
          "data": {
            "text/plain": [
              "145020"
            ]
          },
          "metadata": {},
          "execution_count": 10
        }
      ]
    },
    {
      "cell_type": "code",
      "source": [
        "len(story[0])"
      ],
      "metadata": {
        "colab": {
          "base_uri": "https://localhost:8080/"
        },
        "id": "PimISyLFjryR",
        "outputId": "725d792c-c70c-4b68-8ecd-0c047502a3ad"
      },
      "execution_count": 12,
      "outputs": [
        {
          "output_type": "execute_result",
          "data": {
            "text/plain": [
              "16"
            ]
          },
          "metadata": {},
          "execution_count": 12
        }
      ]
    },
    {
      "cell_type": "code",
      "source": [
        "model = gensim.models.Word2Vec(\n",
        "    window=10,\n",
        "    min_count=2\n",
        ")"
      ],
      "metadata": {
        "id": "YijzvNiBkG7b"
      },
      "execution_count": 13,
      "outputs": []
    },
    {
      "cell_type": "code",
      "source": [
        "model.build_vocab(story)"
      ],
      "metadata": {
        "id": "Ala79AZxk48A"
      },
      "execution_count": 14,
      "outputs": []
    },
    {
      "cell_type": "code",
      "source": [
        "model.train(story, total_examples=model.corpus_count, epochs=model.epochs)"
      ],
      "metadata": {
        "colab": {
          "base_uri": "https://localhost:8080/"
        },
        "id": "dv1vy4_ak7zD",
        "outputId": "16822434-529b-4605-ef86-aba5385b8902"
      },
      "execution_count": 15,
      "outputs": [
        {
          "output_type": "execute_result",
          "data": {
            "text/plain": [
              "(6571301, 8628190)"
            ]
          },
          "metadata": {},
          "execution_count": 15
        }
      ]
    },
    {
      "cell_type": "code",
      "source": [
        "model.wv.most_similar(\"viserys\")"
      ],
      "metadata": {
        "colab": {
          "base_uri": "https://localhost:8080/"
        },
        "id": "IbercNfRlB-a",
        "outputId": "a9e7d4d1-a348-4a23-894f-68c3d510cdc4"
      },
      "execution_count": 17,
      "outputs": [
        {
          "output_type": "execute_result",
          "data": {
            "text/plain": [
              "[('rhaegar', 0.7827981114387512),\n",
              " ('arianne', 0.7633827328681946),\n",
              " ('quentyn', 0.7468143105506897),\n",
              " ('val', 0.7294570803642273),\n",
              " ('beggar', 0.7153461575508118),\n",
              " ('aerys', 0.7115293145179749),\n",
              " ('joff', 0.7090677618980408),\n",
              " ('lyanna', 0.7072886228561401),\n",
              " ('jeyne', 0.7020649909973145),\n",
              " ('cersei', 0.7018969655036926)]"
            ]
          },
          "metadata": {},
          "execution_count": 17
        }
      ]
    },
    {
      "cell_type": "code",
      "source": [
        "model.wv.most_similar(\"daenerys\")"
      ],
      "metadata": {
        "colab": {
          "base_uri": "https://localhost:8080/"
        },
        "id": "u83gBHlhlnBz",
        "outputId": "5b49dcc1-b6d0-4cf0-9966-e5dbf32dd8bb"
      },
      "execution_count": 18,
      "outputs": [
        {
          "output_type": "execute_result",
          "data": {
            "text/plain": [
              "[('stormborn', 0.8091798424720764),\n",
              " ('targaryen', 0.7685650587081909),\n",
              " ('myrcella', 0.7428480982780457),\n",
              " ('princess', 0.7293936610221863),\n",
              " ('queen', 0.7205343246459961),\n",
              " ('unburnt', 0.7074844837188721),\n",
              " ('mother', 0.6857958436012268),\n",
              " ('dorne', 0.6855857968330383),\n",
              " ('westeros', 0.6783537864685059),\n",
              " ('elia', 0.6697773337364197)]"
            ]
          },
          "metadata": {},
          "execution_count": 18
        }
      ]
    },
    {
      "cell_type": "code",
      "source": [
        "model.wv.similarity(\"daenerys\", \"viserys\")"
      ],
      "metadata": {
        "colab": {
          "base_uri": "https://localhost:8080/"
        },
        "id": "UtGhys-ll49m",
        "outputId": "03becb6d-0f77-473c-deec-92da3df8f0e7"
      },
      "execution_count": 20,
      "outputs": [
        {
          "output_type": "execute_result",
          "data": {
            "text/plain": [
              "0.6526498"
            ]
          },
          "metadata": {},
          "execution_count": 20
        }
      ]
    },
    {
      "cell_type": "code",
      "source": [
        "word2vec = model.wv.get_normed_vectors()"
      ],
      "metadata": {
        "id": "0kcOHdScmgl1"
      },
      "execution_count": 22,
      "outputs": []
    },
    {
      "cell_type": "code",
      "source": [
        "word2vec"
      ],
      "metadata": {
        "colab": {
          "base_uri": "https://localhost:8080/"
        },
        "id": "43TBoZfem1iM",
        "outputId": "2ad38b5f-e843-479b-9fde-820e53c9ee0f"
      },
      "execution_count": 23,
      "outputs": [
        {
          "output_type": "execute_result",
          "data": {
            "text/plain": [
              "array([[-0.0267868 , -0.12508255, -0.02909607, ..., -0.0665298 ,\n",
              "        -0.02451252,  0.05173773],\n",
              "       [-0.11514628, -0.04754422,  0.01024555, ..., -0.04482999,\n",
              "        -0.21920267,  0.20784988],\n",
              "       [ 0.1414866 , -0.14261627, -0.05428228, ..., -0.06502477,\n",
              "         0.11529399, -0.16412786],\n",
              "       ...,\n",
              "       [ 0.10421633,  0.12439904,  0.11521977, ..., -0.12842757,\n",
              "         0.04191267, -0.24183035],\n",
              "       [ 0.00311749,  0.09629169,  0.07140808, ..., -0.10471834,\n",
              "         0.03293991, -0.00739602],\n",
              "       [-0.2630652 , -0.03429258, -0.05686745, ..., -0.15631066,\n",
              "        -0.10134596,  0.02119311]], dtype=float32)"
            ]
          },
          "metadata": {},
          "execution_count": 23
        }
      ]
    },
    {
      "cell_type": "code",
      "source": [
        "word2vec.shape"
      ],
      "metadata": {
        "colab": {
          "base_uri": "https://localhost:8080/"
        },
        "id": "Prn7pO_Em7Zr",
        "outputId": "c2856861-aa04-4b6d-af21-7c64e915a8ce"
      },
      "execution_count": 24,
      "outputs": [
        {
          "output_type": "execute_result",
          "data": {
            "text/plain": [
              "(17453, 100)"
            ]
          },
          "metadata": {},
          "execution_count": 24
        }
      ]
    },
    {
      "cell_type": "code",
      "source": [],
      "metadata": {
        "id": "8S-nn5bqm_vj"
      },
      "execution_count": null,
      "outputs": []
    }
  ]
}